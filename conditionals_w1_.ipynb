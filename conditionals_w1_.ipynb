{
  "nbformat": 4,
  "nbformat_minor": 0,
  "metadata": {
    "colab": {
      "provenance": [],
      "authorship_tag": "ABX9TyM2PaiJbzpaZ5gkfUY0zz/D",
      "include_colab_link": true
    },
    "kernelspec": {
      "name": "python3",
      "display_name": "Python 3"
    },
    "language_info": {
      "name": "python"
    }
  },
  "cells": [
    {
      "cell_type": "markdown",
      "metadata": {
        "id": "view-in-github",
        "colab_type": "text"
      },
      "source": [
        "<a href=\"https://colab.research.google.com/github/atulpatil2228/-week-_1-assignment-_1/blob/week1/conditionals_w1_.ipynb\" target=\"_parent\"><img src=\"https://colab.research.google.com/assets/colab-badge.svg\" alt=\"Open In Colab\"/></a>"
      ]
    },
    {
      "cell_type": "code",
      "execution_count": 1,
      "metadata": {
        "id": "LV4xyxyIY6tM"
      },
      "outputs": [],
      "source": [
        "## coditional statements >> codig your decision based on some condition"
      ]
    },
    {
      "cell_type": "code",
      "source": [
        "# syntax\n",
        "# if codition true :\n",
        "#   block of code execute\n",
        ""
      ],
      "metadata": {
        "id": "iHtdBP-nbhEj"
      },
      "execution_count": 2,
      "outputs": []
    },
    {
      "cell_type": "code",
      "source": [
        "a = 200\n",
        "if a > 100: ## TO excute the if block the conditio should be true\n",
        "  print(\"The no is > than 100\") ### just hit one TAB button for indention"
      ],
      "metadata": {
        "colab": {
          "base_uri": "https://localhost:8080/"
        },
        "id": "XI9p43_Nb0p5",
        "outputId": "8c5e5709-25cf-406c-a06a-22e81b2414b1"
      },
      "execution_count": 8,
      "outputs": [
        {
          "output_type": "stream",
          "name": "stdout",
          "text": [
            "The no is > than 100\n"
          ]
        }
      ]
    },
    {
      "cell_type": "code",
      "source": [
        "weather = \"rainy\"\n",
        "if weather == \"rainy\":\n",
        "  print(\"i will not play cricket\")"
      ],
      "metadata": {
        "colab": {
          "base_uri": "https://localhost:8080/"
        },
        "id": "HifnJq0_b_KC",
        "outputId": "b568e812-e782-412b-e79e-f02508204d4d"
      },
      "execution_count": 10,
      "outputs": [
        {
          "output_type": "stream",
          "name": "stdout",
          "text": [
            "i will not play cricket\n"
          ]
        }
      ]
    },
    {
      "cell_type": "code",
      "source": [
        "temp = 31\n",
        "if temp > 30 :\n",
        "  print(\"room temp\")"
      ],
      "metadata": {
        "colab": {
          "base_uri": "https://localhost:8080/"
        },
        "id": "K_4uFqtpdAhX",
        "outputId": "e548b2d6-c106-4de2-cdc4-d3793939bed1"
      },
      "execution_count": 12,
      "outputs": [
        {
          "output_type": "stream",
          "name": "stdout",
          "text": [
            "room temp\n"
          ]
        }
      ]
    },
    {
      "cell_type": "code",
      "source": [
        "is_ds_course = True\n",
        "if is_ds_course:\n",
        "  print(\"i am studying the course \")"
      ],
      "metadata": {
        "colab": {
          "base_uri": "https://localhost:8080/"
        },
        "id": "UgKAkh6idXr4",
        "outputId": "561b5387-a2b3-4f12-d334-29bd449d4374"
      },
      "execution_count": 13,
      "outputs": [
        {
          "output_type": "stream",
          "name": "stdout",
          "text": [
            "i am studying the course \n"
          ]
        }
      ]
    },
    {
      "cell_type": "code",
      "source": [
        "is_ds_course = True\n",
        "if is_ds_course:\n",
        "  print(\"i am studying the course \")\n",
        "else:\n",
        "  print(\"i am playig cricket\")"
      ],
      "metadata": {
        "colab": {
          "base_uri": "https://localhost:8080/"
        },
        "id": "3Mx9BmtDdrER",
        "outputId": "8b631dcd-c966-44dd-ca16-ffc92e68d18c"
      },
      "execution_count": 15,
      "outputs": [
        {
          "output_type": "stream",
          "name": "stdout",
          "text": [
            "i am studying the course \n"
          ]
        }
      ]
    },
    {
      "cell_type": "code",
      "source": [
        "is_ds_course = False\n",
        "if is_ds_course:\n",
        "  print(\"i am studying the course \")\n",
        "else:\n",
        "  print(\"i am playig cricket\")"
      ],
      "metadata": {
        "colab": {
          "base_uri": "https://localhost:8080/"
        },
        "id": "qZq646MGd393",
        "outputId": "2fcace5c-bd18-4b5d-e76e-89ff77d4f170"
      },
      "execution_count": 16,
      "outputs": [
        {
          "output_type": "stream",
          "name": "stdout",
          "text": [
            "i am playig cricket\n"
          ]
        }
      ]
    },
    {
      "cell_type": "code",
      "source": [
        "x = 10\n",
        "if x > 5 :\n",
        "  print(\"x is greater then 5\")\n",
        "else:\n",
        "  print(\"x is not greater then 5\")"
      ],
      "metadata": {
        "colab": {
          "base_uri": "https://localhost:8080/"
        },
        "id": "qaUvGnL1d-hW",
        "outputId": "c1a9b576-378c-49f7-84cf-48e3225d3646"
      },
      "execution_count": 18,
      "outputs": [
        {
          "output_type": "stream",
          "name": "stdout",
          "text": [
            "x is greater then 5\n"
          ]
        }
      ]
    },
    {
      "cell_type": "code",
      "source": [
        "x = 1\n",
        "if x > 5 :\n",
        "  print(\"x is greater then 5\")\n",
        "else:\n",
        "  print(\"x is not greater then 5\")"
      ],
      "metadata": {
        "colab": {
          "base_uri": "https://localhost:8080/"
        },
        "id": "dY5ryqG7eSVS",
        "outputId": "b0699794-10c8-410a-c7e7-ac0f0e2fea4c"
      },
      "execution_count": 19,
      "outputs": [
        {
          "output_type": "stream",
          "name": "stdout",
          "text": [
            "x is not greater then 5\n"
          ]
        }
      ]
    },
    {
      "cell_type": "code",
      "source": [
        "age = 20\n",
        "if age >= 21 :\n",
        "  print(\"allowed\")\n",
        "else:\n",
        "  print(\"not a adult \")"
      ],
      "metadata": {
        "colab": {
          "base_uri": "https://localhost:8080/"
        },
        "id": "YOk_8Rfyee1P",
        "outputId": "436c2dab-f049-4f97-ca8d-5492d284c1c3"
      },
      "execution_count": 20,
      "outputs": [
        {
          "output_type": "stream",
          "name": "stdout",
          "text": [
            "not a adult \n"
          ]
        }
      ]
    },
    {
      "cell_type": "code",
      "source": [
        "age = 22\n",
        "if age >= 21 :\n",
        "  print(\"allowed\")\n",
        "else:\n",
        "  print(\"not a adult \")"
      ],
      "metadata": {
        "colab": {
          "base_uri": "https://localhost:8080/"
        },
        "id": "DTLf8G67eyx9",
        "outputId": "3b4c5896-6b50-47fd-91b9-df1a5a5da666"
      },
      "execution_count": 22,
      "outputs": [
        {
          "output_type": "stream",
          "name": "stdout",
          "text": [
            "allowed\n"
          ]
        }
      ]
    },
    {
      "cell_type": "code",
      "source": [
        "##to check a number is a even or not\n",
        "6 % 2"
      ],
      "metadata": {
        "colab": {
          "base_uri": "https://localhost:8080/"
        },
        "id": "vnbhpcFMe3Si",
        "outputId": "db964690-c3bf-46b9-e334-a542e12a8eda"
      },
      "execution_count": 24,
      "outputs": [
        {
          "output_type": "execute_result",
          "data": {
            "text/plain": [
              "0"
            ]
          },
          "metadata": {},
          "execution_count": 24
        }
      ]
    },
    {
      "cell_type": "code",
      "source": [
        "num = 7\n",
        "if num%2 == 0:\n",
        "  print(\"even\")\n",
        "else:\n",
        "  print(\"odd\")"
      ],
      "metadata": {
        "colab": {
          "base_uri": "https://localhost:8080/"
        },
        "id": "SRx6qMuQg0d-",
        "outputId": "ac34cfe3-718d-46e3-cdcb-b4f6132f6863"
      },
      "execution_count": 25,
      "outputs": [
        {
          "output_type": "stream",
          "name": "stdout",
          "text": [
            "odd\n"
          ]
        }
      ]
    },
    {
      "cell_type": "code",
      "source": [
        "score = 45\n",
        "if score > 33:\n",
        "  print(\"pass\")\n",
        "else:\n",
        "  print(\"fail\")"
      ],
      "metadata": {
        "colab": {
          "base_uri": "https://localhost:8080/"
        },
        "id": "rN6h8pdChHqD",
        "outputId": "719a7790-cd83-46a9-edcc-45b45ee8cb57"
      },
      "execution_count": 26,
      "outputs": [
        {
          "output_type": "stream",
          "name": "stdout",
          "text": [
            "pass\n"
          ]
        }
      ]
    },
    {
      "cell_type": "code",
      "source": [
        "score = 12\n",
        "if score > 33:\n",
        "  print(\"pass\")\n",
        "else:\n",
        "  print(\"fail\")"
      ],
      "metadata": {
        "colab": {
          "base_uri": "https://localhost:8080/"
        },
        "id": "w9D76_b0hWtL",
        "outputId": "ef47825c-59a1-4b46-f676-9f005907a862"
      },
      "execution_count": 27,
      "outputs": [
        {
          "output_type": "stream",
          "name": "stdout",
          "text": [
            "fail\n"
          ]
        }
      ]
    },
    {
      "cell_type": "code",
      "source": [
        "## if -elif -  else\n",
        "\n",
        "a = 10\n",
        "if a >100:\n",
        "  print(\"will execute if a is greater than 100\")\n",
        "elif a < 100:\n",
        "  print(\"will execute if a is lesser than 100\")\n",
        "else:\n",
        "  print(\"The number is equals to 100\")"
      ],
      "metadata": {
        "colab": {
          "base_uri": "https://localhost:8080/"
        },
        "id": "RwQ4v42dhZi7",
        "outputId": "81034725-c24a-42ac-e3cd-b3e5d2321f7c"
      },
      "execution_count": 28,
      "outputs": [
        {
          "output_type": "stream",
          "name": "stdout",
          "text": [
            "will execute if a is lesser than 100\n"
          ]
        }
      ]
    },
    {
      "cell_type": "code",
      "source": [
        "## if -elif -  else\n",
        "\n",
        "a = 100\n",
        "if a >100:\n",
        "  print(\"will execute if a is greater than 100\")\n",
        "elif a < 100:\n",
        "  print(\"will execute if a is lesser than 100\")\n",
        "else:\n",
        "  print(\"The number is equals to 100\")"
      ],
      "metadata": {
        "colab": {
          "base_uri": "https://localhost:8080/"
        },
        "id": "KnBr7VxniAht",
        "outputId": "65dfa266-79da-4b32-cbb8-07956ac60a9f"
      },
      "execution_count": 29,
      "outputs": [
        {
          "output_type": "stream",
          "name": "stdout",
          "text": [
            "The number is equals to 100\n"
          ]
        }
      ]
    },
    {
      "cell_type": "code",
      "source": [
        "score = 75\n",
        "if  score >= 90 :\n",
        "  print(\"grade a\")\n",
        "elif (80 <=score<=90):\n",
        "  print(\"grade b\")\n",
        "else:\n",
        "  print(\"grade less than b\")"
      ],
      "metadata": {
        "colab": {
          "base_uri": "https://localhost:8080/"
        },
        "id": "GezkoM2eiJRJ",
        "outputId": "c73fdaaa-ee21-4bb5-b2b9-97c6a6005ea1"
      },
      "execution_count": 31,
      "outputs": [
        {
          "output_type": "stream",
          "name": "stdout",
          "text": [
            "grade less than b\n"
          ]
        }
      ]
    },
    {
      "cell_type": "code",
      "source": [
        "hours = 14\n",
        "\n",
        "if hours < 12:\n",
        "  print(\"good mornig\")\n",
        "elif (12<=hours<=17):\n",
        "  print(\"afternoon\")\n",
        "else:\n",
        "  print(\"good ight\")\n"
      ],
      "metadata": {
        "colab": {
          "base_uri": "https://localhost:8080/"
        },
        "id": "sbh-f13uiycy",
        "outputId": "47e9202b-4ed8-4c2e-e71e-0d71cd6357ae"
      },
      "execution_count": 33,
      "outputs": [
        {
          "output_type": "stream",
          "name": "stdout",
          "text": [
            "afternoon\n"
          ]
        }
      ]
    },
    {
      "cell_type": "code",
      "source": [
        "age = 11\n",
        "if age < 18 :\n",
        "  print(\"Age is minor\")\n",
        "elif 18<=age<=65:\n",
        "  print(\"you are adult\")\n",
        "else:\n",
        "  print(\"you are senior citizen\")"
      ],
      "metadata": {
        "colab": {
          "base_uri": "https://localhost:8080/"
        },
        "id": "NOn09E-zjTg1",
        "outputId": "44b587df-d8c1-413b-bd01-865283437fd9"
      },
      "execution_count": 37,
      "outputs": [
        {
          "output_type": "stream",
          "name": "stdout",
          "text": [
            "Age is minor\n"
          ]
        }
      ]
    },
    {
      "cell_type": "code",
      "source": [
        "##  nested if else condition\n",
        "x = 3\n",
        "y = 5\n",
        "if x > 5:\n",
        "  if y > 5:\n",
        "    print(\"Both x amd y are greater than 5\")\n",
        "  else:\n",
        "      print(\"x is greater than 5 but y is not \")\n",
        "else:\n",
        "  print(\"x is not greater than 5\")"
      ],
      "metadata": {
        "colab": {
          "base_uri": "https://localhost:8080/"
        },
        "id": "n-JucWLDj4CP",
        "outputId": "a4730d15-4f7b-484c-ecc6-6c16d8bfae51"
      },
      "execution_count": 42,
      "outputs": [
        {
          "output_type": "stream",
          "name": "stdout",
          "text": [
            "x is not greater than 5\n"
          ]
        }
      ]
    },
    {
      "cell_type": "code",
      "source": [
        "##  nested if else condition\n",
        "x = 6\n",
        "y = 6\n",
        "if x > 5:\n",
        "  if y > 5:\n",
        "    print(\"Both x amd y are greater than 5\")\n",
        "  else:\n",
        "      print(\"x is greater than 5 but y is not \")\n",
        "else:\n",
        "  print(\"x is not greater than 5\")"
      ],
      "metadata": {
        "colab": {
          "base_uri": "https://localhost:8080/"
        },
        "id": "3qFDG5mxnPI7",
        "outputId": "0dee5abf-578d-496f-ed4b-6869adff85fc"
      },
      "execution_count": 44,
      "outputs": [
        {
          "output_type": "stream",
          "name": "stdout",
          "text": [
            "Both x amd y are greater than 5\n"
          ]
        }
      ]
    },
    {
      "cell_type": "code",
      "source": [
        "a =int (input(\"enter a number \"))\n",
        "if a > 100:\n",
        "  print(\"the no is greater tha 100\")\n",
        "elif (0< a < 100) :\n",
        "  print(\"a is greater than 0 but less than 100\")\n",
        "else:\n",
        "  print(\"negative number\")\n"
      ],
      "metadata": {
        "colab": {
          "base_uri": "https://localhost:8080/"
        },
        "id": "KHwmbVhUnvBF",
        "outputId": "675c76f2-bbbb-4e53-fa65-fe25f344be94"
      },
      "execution_count": 51,
      "outputs": [
        {
          "output_type": "stream",
          "name": "stdout",
          "text": [
            "enter a number -5\n",
            "negative number\n"
          ]
        }
      ]
    },
    {
      "cell_type": "code",
      "source": [
        "type(a)"
      ],
      "metadata": {
        "colab": {
          "base_uri": "https://localhost:8080/"
        },
        "id": "gIJ90QeboBY5",
        "outputId": "bc473b7d-776a-43ca-828d-3cfe5d34893e"
      },
      "execution_count": 50,
      "outputs": [
        {
          "output_type": "execute_result",
          "data": {
            "text/plain": [
              "int"
            ]
          },
          "metadata": {},
          "execution_count": 50
        }
      ]
    },
    {
      "cell_type": "code",
      "source": [
        "a =int (input(\"enter a number \"))\n",
        "if a > 100:\n",
        "  print(\"the no is greater tha 100\")\n",
        "elif (0< a < 100) :\n",
        "  print(\"a is greater than 0 but less than 100\")\n",
        "else:\n",
        "  print(\"negative number\")\n"
      ],
      "metadata": {
        "colab": {
          "base_uri": "https://localhost:8080/"
        },
        "id": "YKCvvBUVoFbJ",
        "outputId": "639ba665-4b46-461a-9294-ff17d6dddf0f"
      },
      "execution_count": 52,
      "outputs": [
        {
          "output_type": "stream",
          "name": "stdout",
          "text": [
            "enter a number 222\n",
            "the no is greater tha 100\n"
          ]
        }
      ]
    },
    {
      "cell_type": "code",
      "source": [
        "is_vip =True\n",
        "age = 70\n",
        "\n",
        "if is_vip:\n",
        "  if age >= 18:\n",
        "    if age < 65:\n",
        "      print(\" welcome vip coustomer\")\n",
        "    else:\n",
        "      print(\" you are vip but you are also qualified for senior discount\")\n",
        "  else:\n",
        "    print(\"vip status is for only for adult\")\n",
        "else:\n",
        "  print(\"you are not vip and regular prices are applied\")"
      ],
      "metadata": {
        "colab": {
          "base_uri": "https://localhost:8080/"
        },
        "id": "Sf9RiYv2o2jK",
        "outputId": "548ca61b-33bb-423c-8061-393dd8609eff"
      },
      "execution_count": 56,
      "outputs": [
        {
          "output_type": "stream",
          "name": "stdout",
          "text": [
            " you are vip but you are also qualified for senior discount\n"
          ]
        }
      ]
    },
    {
      "cell_type": "code",
      "source": [
        "name = input(\"pls enter your name \")\n",
        "email =input(\"pls enter your email\")\n",
        "password = input(\"pls enter your password\")\n",
        "\n",
        "\n",
        "if name == \"\":\n",
        "  print(\"name cannot be empty\")\n",
        "else:\n",
        "  if \"@\" not in email :\n",
        "    print(\"in valid email\")\n",
        "  else:\n",
        "    if len(password) < 0:\n",
        "      print(\"invalid password\")\n",
        "    else:\n",
        "        print(\"registration successfull\")"
      ],
      "metadata": {
        "colab": {
          "base_uri": "https://localhost:8080/"
        },
        "id": "dgJY6bPQpmj4",
        "outputId": "15e5d919-81c1-4fe4-a17b-1df3a83df1e6"
      },
      "execution_count": 59,
      "outputs": [
        {
          "output_type": "stream",
          "name": "stdout",
          "text": [
            "pls enter your name atul\n",
            "pls enter your emailatul@gmail.com\n",
            "pls enter your password2444\n",
            "registration successfull\n"
          ]
        }
      ]
    },
    {
      "cell_type": "code",
      "source": [],
      "metadata": {
        "id": "KE6gI9wlsmNQ"
      },
      "execution_count": null,
      "outputs": []
    }
  ]
}