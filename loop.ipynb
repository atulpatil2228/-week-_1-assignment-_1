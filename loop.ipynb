{
  "nbformat": 4,
  "nbformat_minor": 0,
  "metadata": {
    "colab": {
      "provenance": [],
      "authorship_tag": "ABX9TyM2QCyMebtQV2uCjbrg0Fz/",
      "include_colab_link": true
    },
    "kernelspec": {
      "name": "python3",
      "display_name": "Python 3"
    },
    "language_info": {
      "name": "python"
    }
  },
  "cells": [
    {
      "cell_type": "markdown",
      "metadata": {
        "id": "view-in-github",
        "colab_type": "text"
      },
      "source": [
        "<a href=\"https://colab.research.google.com/github/atulpatil2228/-week-_1-assignment-_1/blob/week1/loop.ipynb\" target=\"_parent\"><img src=\"https://colab.research.google.com/assets/colab-badge.svg\" alt=\"Open In Colab\"/></a>"
      ]
    },
    {
      "cell_type": "code",
      "execution_count": null,
      "metadata": {
        "id": "mzfNpFCyXW8r"
      },
      "outputs": [],
      "source": [
        "## loops allows you to repeatedly a block of code , while and for loop\n",
        "\n",
        "# while loop\n",
        "## it repeatedly executes a block of code as long as codition is true"
      ]
    },
    {
      "cell_type": "code",
      "source": [
        "n= 6\n",
        "i= 1\n",
        "while i <n :\n",
        "  print(i)\n",
        "  i = i+1"
      ],
      "metadata": {
        "colab": {
          "base_uri": "https://localhost:8080/"
        },
        "id": "k5M_RyE5dDbj",
        "outputId": "310b899c-81f1-4524-8043-7107aad1b6ad"
      },
      "execution_count": null,
      "outputs": [
        {
          "output_type": "stream",
          "name": "stdout",
          "text": [
            "1\n",
            "2\n",
            "3\n",
            "4\n",
            "5\n"
          ]
        }
      ]
    },
    {
      "cell_type": "code",
      "source": [
        "count = 5\n",
        "while count > 0:\n",
        "  print(count)\n",
        "  count= count -1\n",
        "else:\n",
        "  print(\"this will be executed when the while looop is run successfully\")"
      ],
      "metadata": {
        "colab": {
          "base_uri": "https://localhost:8080/"
        },
        "id": "KMkSM_jFdWEH",
        "outputId": "c3281f2e-0234-45b0-b19d-26e5f68179cc"
      },
      "execution_count": null,
      "outputs": [
        {
          "output_type": "stream",
          "name": "stdout",
          "text": [
            "5\n",
            "4\n",
            "3\n",
            "2\n",
            "1\n",
            "this will be executed when the while looop is run successfully\n"
          ]
        }
      ]
    },
    {
      "cell_type": "code",
      "source": [
        "n= 6\n",
        "i= 1\n",
        "while i <n :\n",
        "  print(i)\n",
        "  i = i+1\n",
        "  if i ==3:\n",
        "    break\n",
        "else:\n",
        "   print(\"this will be executed when the while looop is run successfully\")\n"
      ],
      "metadata": {
        "colab": {
          "base_uri": "https://localhost:8080/"
        },
        "id": "dHE2B96Ae6Zr",
        "outputId": "9f527b9b-48a1-46e3-e64a-18d6b3cd3164"
      },
      "execution_count": null,
      "outputs": [
        {
          "output_type": "stream",
          "name": "stdout",
          "text": [
            "1\n",
            "2\n"
          ]
        }
      ]
    },
    {
      "cell_type": "code",
      "source": [
        "from ast import Continue\n",
        "## continue >> to skip that iteration\n",
        "n= 6\n",
        "i= 1\n",
        "while i <n :\n",
        "  i = i+1\n",
        "  if i ==3:\n",
        "    continue\n",
        "  print(i)\n",
        "else:\n",
        "   print(\"this will be executed when the while looop is run successfully\")\n"
      ],
      "metadata": {
        "colab": {
          "base_uri": "https://localhost:8080/"
        },
        "id": "_5ABzX9YgAKf",
        "outputId": "4aaea8bf-1a0e-44e0-9526-cc1432874c9e"
      },
      "execution_count": null,
      "outputs": [
        {
          "output_type": "stream",
          "name": "stdout",
          "text": [
            "2\n",
            "4\n",
            "5\n",
            "6\n",
            "this will be executed when the while looop is run successfully\n"
          ]
        }
      ]
    },
    {
      "cell_type": "code",
      "source": [
        "## for loops  >> iterate over a sequence of elements >> string or list"
      ],
      "metadata": {
        "id": "mB7o7y5aiGCa"
      },
      "execution_count": null,
      "outputs": []
    },
    {
      "cell_type": "code",
      "source": [
        "a = \"pwskills\"\n",
        "for char in a:\n",
        "  print(char)"
      ],
      "metadata": {
        "colab": {
          "base_uri": "https://localhost:8080/"
        },
        "id": "aRCSTt5QpeH9",
        "outputId": "039d4012-42ca-401a-f0cd-563e93a87cf3"
      },
      "execution_count": null,
      "outputs": [
        {
          "output_type": "stream",
          "name": "stdout",
          "text": [
            "p\n",
            "w\n",
            "s\n",
            "k\n",
            "i\n",
            "l\n",
            "l\n",
            "s\n"
          ]
        }
      ]
    },
    {
      "cell_type": "code",
      "source": [
        "for atul in a:\n",
        "  print(atul)"
      ],
      "metadata": {
        "colab": {
          "base_uri": "https://localhost:8080/"
        },
        "id": "f8UuBF64pvMC",
        "outputId": "a57e6806-3927-4b76-f226-2384c80a5469"
      },
      "execution_count": null,
      "outputs": [
        {
          "output_type": "stream",
          "name": "stdout",
          "text": [
            "p\n",
            "w\n",
            "s\n",
            "k\n",
            "i\n",
            "l\n",
            "l\n",
            "s\n"
          ]
        }
      ]
    },
    {
      "cell_type": "code",
      "source": [
        "l = [1,2,\"pwskills\"]\n",
        "for i in l :\n",
        "  print(i)"
      ],
      "metadata": {
        "colab": {
          "base_uri": "https://localhost:8080/"
        },
        "id": "gv9shvMmqZsv",
        "outputId": "523da84c-6ab9-4ad2-b919-29c5301102a9"
      },
      "execution_count": null,
      "outputs": [
        {
          "output_type": "stream",
          "name": "stdout",
          "text": [
            "1\n",
            "2\n",
            "pwskills\n"
          ]
        }
      ]
    },
    {
      "cell_type": "code",
      "source": [
        "for i in l:\n",
        "  print(i)\n",
        "else:\n",
        "  print(\"this will executes when for loop ends \")"
      ],
      "metadata": {
        "colab": {
          "base_uri": "https://localhost:8080/"
        },
        "id": "2z6tDUlCqk_G",
        "outputId": "d207c322-d601-4354-c95f-147015b2478e"
      },
      "execution_count": null,
      "outputs": [
        {
          "output_type": "stream",
          "name": "stdout",
          "text": [
            "1\n",
            "2\n",
            "pwskills\n",
            "this will executes when for loop ends \n"
          ]
        }
      ]
    },
    {
      "cell_type": "code",
      "source": [
        "for i in l:\n",
        "  if i ==\"pwskills\":\n",
        "    break\n",
        "  print(i)\n",
        "else:\n",
        "  print(\"this will executes when for loop ends \")"
      ],
      "metadata": {
        "colab": {
          "base_uri": "https://localhost:8080/"
        },
        "id": "wYszfe_aq26B",
        "outputId": "705eadf9-79bf-4b14-d9e5-1f3aa8e3050c"
      },
      "execution_count": null,
      "outputs": [
        {
          "output_type": "stream",
          "name": "stdout",
          "text": [
            "1\n",
            "2\n"
          ]
        }
      ]
    },
    {
      "cell_type": "code",
      "source": [
        "for i in l:\n",
        "  if i ==\"pwskills\":\n",
        "    continue\n",
        "  print(i)\n",
        "else:\n",
        "  print(\"this will executes when for loop ends \")"
      ],
      "metadata": {
        "colab": {
          "base_uri": "https://localhost:8080/"
        },
        "id": "euhj19bcq-wH",
        "outputId": "0f1cf65b-64d9-4137-e6d2-2abcef1fdf7b"
      },
      "execution_count": null,
      "outputs": [
        {
          "output_type": "stream",
          "name": "stdout",
          "text": [
            "1\n",
            "2\n",
            "this will executes when for loop ends \n"
          ]
        }
      ]
    },
    {
      "cell_type": "code",
      "source": [
        "list (range(0,10))"
      ],
      "metadata": {
        "colab": {
          "base_uri": "https://localhost:8080/"
        },
        "id": "CqwqFUhCrQjB",
        "outputId": "c7c7fd66-5880-49a5-ca2e-3b2a5d8264f2"
      },
      "execution_count": null,
      "outputs": [
        {
          "output_type": "execute_result",
          "data": {
            "text/plain": [
              "[0, 1, 2, 3, 4, 5, 6, 7, 8, 9]"
            ]
          },
          "metadata": {},
          "execution_count": 30
        }
      ]
    },
    {
      "cell_type": "code",
      "source": [
        "for i in range(0 ,10):\n",
        "  print(i)"
      ],
      "metadata": {
        "colab": {
          "base_uri": "https://localhost:8080/"
        },
        "id": "X8LPYJ9ProQ1",
        "outputId": "b1b5ee26-85f0-493e-a040-3360ad3da0cd"
      },
      "execution_count": null,
      "outputs": [
        {
          "output_type": "stream",
          "name": "stdout",
          "text": [
            "0\n",
            "1\n",
            "2\n",
            "3\n",
            "4\n",
            "5\n",
            "6\n",
            "7\n",
            "8\n",
            "9\n"
          ]
        }
      ]
    },
    {
      "cell_type": "code",
      "source": [
        "## syatax range (start , stop ,step)"
      ],
      "metadata": {
        "id": "zcoabRM2tYJZ"
      },
      "execution_count": null,
      "outputs": []
    },
    {
      "cell_type": "code",
      "source": [
        "list(range(0,10))"
      ],
      "metadata": {
        "colab": {
          "base_uri": "https://localhost:8080/"
        },
        "id": "K6pgWKvStiuN",
        "outputId": "b9dfc53b-2dd2-47ae-aac9-d48ea97b785b"
      },
      "execution_count": null,
      "outputs": [
        {
          "output_type": "execute_result",
          "data": {
            "text/plain": [
              "[0, 1, 2, 3, 4, 5, 6, 7, 8, 9]"
            ]
          },
          "metadata": {},
          "execution_count": 38
        }
      ]
    },
    {
      "cell_type": "code",
      "source": [
        "list(range(0,10, 2))"
      ],
      "metadata": {
        "colab": {
          "base_uri": "https://localhost:8080/"
        },
        "id": "-iyjSdI0toTu",
        "outputId": "d7d44164-747f-4289-fd95-25673b89493e"
      },
      "execution_count": null,
      "outputs": [
        {
          "output_type": "execute_result",
          "data": {
            "text/plain": [
              "[0, 2, 4, 6, 8]"
            ]
          },
          "metadata": {},
          "execution_count": 39
        }
      ]
    },
    {
      "cell_type": "code",
      "source": [
        "list(range(0,10,3))"
      ],
      "metadata": {
        "colab": {
          "base_uri": "https://localhost:8080/"
        },
        "id": "uR_yDflft1jy",
        "outputId": "51d29a36-dd96-428f-ed27-9a08bfd25773"
      },
      "execution_count": null,
      "outputs": [
        {
          "output_type": "execute_result",
          "data": {
            "text/plain": [
              "[0, 3, 6, 9]"
            ]
          },
          "metadata": {},
          "execution_count": 40
        }
      ]
    },
    {
      "cell_type": "code",
      "source": [
        "## print a right triagle using while loop\n",
        "row = 1\n",
        "while row <= 4:\n",
        "  col = 1\n",
        "  while col<=row:\n",
        "    print(\"*\",end =\"\")\n",
        "    col = col+1\n",
        "  print()\n",
        "  row = row+1"
      ],
      "metadata": {
        "colab": {
          "base_uri": "https://localhost:8080/"
        },
        "id": "wjWRzMdyt4UY",
        "outputId": "ad52d9dd-eb8a-4f4b-a9ea-a3431392765d"
      },
      "execution_count": null,
      "outputs": [
        {
          "output_type": "stream",
          "name": "stdout",
          "text": [
            "*\n",
            "**\n",
            "***\n",
            "****\n"
          ]
        }
      ]
    },
    {
      "cell_type": "code",
      "source": [
        "for i in range (5):\n",
        "  print(i, end= \"  \")"
      ],
      "metadata": {
        "colab": {
          "base_uri": "https://localhost:8080/"
        },
        "id": "bOUKT46ZurAl",
        "outputId": "f477eac1-99a4-4fdc-b502-e8a368314c0b"
      },
      "execution_count": null,
      "outputs": [
        {
          "output_type": "stream",
          "name": "stdout",
          "text": [
            "0  1  2  3  4  "
          ]
        }
      ]
    },
    {
      "cell_type": "code",
      "source": [
        "course = [\"ml\",\"stats\",\"data sc \",\"mathematics \"]\n",
        "index = 0\n",
        "\n",
        "while index < len(course ):\n",
        "  print(course[index])\n",
        "  index = index + 1"
      ],
      "metadata": {
        "id": "8Jjg80HsuwgF",
        "colab": {
          "base_uri": "https://localhost:8080/"
        },
        "outputId": "206041c7-a5f9-4775-e6fa-0ef436c5c65b"
      },
      "execution_count": 2,
      "outputs": [
        {
          "output_type": "stream",
          "name": "stdout",
          "text": [
            "ml\n",
            "stats\n",
            "data sc \n",
            "mathematics \n"
          ]
        }
      ]
    },
    {
      "cell_type": "code",
      "source": [
        "for i in range(4):\n",
        "  for j in range (i+1):\n",
        "    print(\"*\" , end = \" \")\n",
        "  print()"
      ],
      "metadata": {
        "colab": {
          "base_uri": "https://localhost:8080/"
        },
        "id": "cIaVAU9GrJcB",
        "outputId": "d0b73b5f-961b-45ba-cb93-86ef0e3aa871"
      },
      "execution_count": 4,
      "outputs": [
        {
          "output_type": "stream",
          "name": "stdout",
          "text": [
            "* \n",
            "* * \n",
            "* * * \n",
            "* * * * \n"
          ]
        }
      ]
    },
    {
      "cell_type": "code",
      "source": [
        "number = [1,2,3,4,5,6,7]\n",
        "for number in number:\n",
        "  if(number==3) or (number==7):\n",
        "    continue\n",
        "  print(number)"
      ],
      "metadata": {
        "colab": {
          "base_uri": "https://localhost:8080/"
        },
        "id": "cIaLr6VhrwW3",
        "outputId": "2a67e913-d0c3-4630-ce5f-d7c6227c2590"
      },
      "execution_count": 6,
      "outputs": [
        {
          "output_type": "stream",
          "name": "stdout",
          "text": [
            "1\n",
            "2\n",
            "4\n",
            "5\n",
            "6\n"
          ]
        }
      ]
    },
    {
      "cell_type": "code",
      "source": [
        "number = [1,2,3,4,5,6,7]\n",
        "for number in number:\n",
        "  if(number==3) or (number==7):\n",
        "    break\n",
        "  print(number)"
      ],
      "metadata": {
        "colab": {
          "base_uri": "https://localhost:8080/"
        },
        "id": "X7iUDU7psdej",
        "outputId": "58fab481-6baf-4874-a22d-d0aac13755a6"
      },
      "execution_count": 7,
      "outputs": [
        {
          "output_type": "stream",
          "name": "stdout",
          "text": [
            "1\n",
            "2\n"
          ]
        }
      ]
    },
    {
      "cell_type": "code",
      "source": [
        "for  i in range(10):\n",
        "  if i % 2 == 0:\n",
        "    continue\n",
        "  print(i)"
      ],
      "metadata": {
        "colab": {
          "base_uri": "https://localhost:8080/"
        },
        "id": "FiyOSnffsmVK",
        "outputId": "c06601cb-7812-41fc-fadd-cfbd23f05745"
      },
      "execution_count": 8,
      "outputs": [
        {
          "output_type": "stream",
          "name": "stdout",
          "text": [
            "1\n",
            "3\n",
            "5\n",
            "7\n",
            "9\n"
          ]
        }
      ]
    },
    {
      "cell_type": "code",
      "source": [
        "for  i in range(10):\n",
        "  if i % 2 != 0:\n",
        "    continue\n",
        "  print(i)"
      ],
      "metadata": {
        "colab": {
          "base_uri": "https://localhost:8080/"
        },
        "id": "6z1WYvoTs6A2",
        "outputId": "4fdefa4e-7f94-4671-f1ae-f0d094adc65a"
      },
      "execution_count": 10,
      "outputs": [
        {
          "output_type": "stream",
          "name": "stdout",
          "text": [
            "0\n",
            "2\n",
            "4\n",
            "6\n",
            "8\n"
          ]
        }
      ]
    },
    {
      "cell_type": "code",
      "source": [],
      "metadata": {
        "id": "o6E0dTRXtA6C"
      },
      "execution_count": null,
      "outputs": []
    }
  ]
}