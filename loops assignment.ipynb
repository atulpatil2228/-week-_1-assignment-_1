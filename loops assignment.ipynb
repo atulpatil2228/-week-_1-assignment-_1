{
 "cells": [
  {
   "cell_type": "code",
   "execution_count": null,
   "id": "51ce5759-77e8-4f04-a8f1-e5eddccf32b9",
   "metadata": {},
   "outputs": [],
   "source": [
    "## Print nmber from 1 to 5 ing a while loop."
   ]
  },
  {
   "cell_type": "code",
   "execution_count": 1,
   "id": "e818480b-1eec-4b43-b362-5cf06cf2d149",
   "metadata": {},
   "outputs": [
    {
     "name": "stdout",
     "output_type": "stream",
     "text": [
      "0\n",
      "1\n",
      "2\n",
      "3\n",
      "4\n",
      "5\n"
     ]
    }
   ],
   "source": [
    "n = 5\n",
    "i = 0 \n",
    "while i <= n :\n",
    "    print(i)\n",
    "    i = i + 1"
   ]
  },
  {
   "cell_type": "code",
   "execution_count": null,
   "id": "a54de088-b39d-4dcd-a71f-4f3d925045f8",
   "metadata": {},
   "outputs": [],
   "source": [
    " ## Calclate the sum of number from 1 to 10 ing a while loop."
   ]
  },
  {
   "cell_type": "code",
   "execution_count": 12,
   "id": "4eaea992-4a25-4bc4-9dc3-76c612f5a0ba",
   "metadata": {},
   "outputs": [
    {
     "data": {
      "text/plain": [
       "55"
      ]
     },
     "execution_count": 12,
     "metadata": {},
     "output_type": "execute_result"
    }
   ],
   "source": [
    "\n",
    "sum = 0\n",
    "number = 1\n",
    "\n",
    "\n",
    "while number <= 10:\n",
    "    sum += number\n",
    "    number += 1\n",
    "\n",
    "\n",
    "sum\n"
   ]
  },
  {
   "cell_type": "code",
   "execution_count": null,
   "id": "ad5c521b-0ac3-4910-a03b-5f41e70f3624",
   "metadata": {},
   "outputs": [],
   "source": [
    "## Calclate the factorial of a nmber ing a for loop."
   ]
  },
  {
   "cell_type": "code",
   "execution_count": 23,
   "id": "4bdbb022-1d29-4d9a-84ea-3713da3f00c3",
   "metadata": {},
   "outputs": [
    {
     "name": "stdout",
     "output_type": "stream",
     "text": [
      "1\n",
      "2\n",
      "6\n",
      "24\n",
      "120\n"
     ]
    }
   ],
   "source": [
    "number = 5\n",
    "factorial = 1\n",
    "for i in range (1, number + 1):\n",
    "    factorial *= i\n",
    "    print(factorial)"
   ]
  },
  {
   "cell_type": "code",
   "execution_count": 24,
   "id": "59c8af52-9dcc-43e9-8314-ed46a382e87c",
   "metadata": {},
   "outputs": [],
   "source": [
    "## Cont the nmber of vowel in a tring ing a for loop."
   ]
  },
  {
   "cell_type": "code",
   "execution_count": 37,
   "id": "2ee4553e-1f93-40ed-bbf2-59da23c761a2",
   "metadata": {},
   "outputs": [
    {
     "name": "stdout",
     "output_type": "stream",
     "text": [
      "the number of vowels in n: 5\n",
      "the number of vowels in n: 5\n",
      "the number of vowels in n: 5\n",
      "the number of vowels in n: 5\n",
      "the number of vowels in n: 5\n"
     ]
    }
   ],
   "source": [
    "n = 'atul paatil'\n",
    "vowels = ['a','e','i','o','u']\n",
    "for z in n:\n",
    "    if z in vowels :\n",
    "        print(\"the number of vowels in n:\" , vowel_number)\n",
    "    "
   ]
  },
  {
   "cell_type": "code",
   "execution_count": 39,
   "id": "6f340e39-e5dc-4196-b72c-b919c4c3bf71",
   "metadata": {},
   "outputs": [
    {
     "name": "stdout",
     "output_type": "stream",
     "text": [
      "the number of vowels in n: 5\n",
      "the number of vowels in n: 5\n",
      "the number of vowels in n: 5\n",
      "the number of vowels in n: 5\n",
      "the number of vowels in n: 5\n",
      "the number of vowels in n: 5\n",
      "the number of vowels in n: 5\n",
      "the number of vowels in n: 5\n"
     ]
    }
   ],
   "source": [
    "n = 'atul paatiluuu'\n",
    "vowels = ['a','e','i','o','u']\n",
    "for z in n:\n",
    "    if z in vowels :\n",
    "        print(\"the number of vowels in n:\" , vowel_number)\n",
    "    "
   ]
  },
  {
   "cell_type": "code",
   "execution_count": 40,
   "id": "b2bc8019-2ea7-4606-a4d4-12718a5b3858",
   "metadata": {},
   "outputs": [
    {
     "name": "stdout",
     "output_type": "stream",
     "text": [
      "* \n",
      "* * \n",
      "* * * \n",
      "* * * * \n",
      "* * * * * \n"
     ]
    }
   ],
   "source": [
    "\n",
    "num_rows = 5\n",
    "\n",
    "\n",
    "for i in range(1, num_rows + 1):\n",
    "    \n",
    "    for j in range(1, i + 1):\n",
    "        print(\"*\", end=\" \")  \n",
    "    print()  \n",
    "\n",
    "\n"
   ]
  },
  {
   "cell_type": "code",
   "execution_count": null,
   "id": "58d6dfa5-5268-444f-b0df-9824df95de82",
   "metadata": {},
   "outputs": [],
   "source": [
    "### Generate a mltiplication table uing nested loop."
   ]
  },
  {
   "cell_type": "code",
   "execution_count": 41,
   "id": "bf4c443e-a113-4658-bf5d-a49fea384c81",
   "metadata": {},
   "outputs": [
    {
     "name": "stdout",
     "output_type": "stream",
     "text": [
      "1 * 1 = 1\t1 * 2 = 2\t1 * 3 = 3\t1 * 4 = 4\t1 * 5 = 5\t1 * 6 = 6\t1 * 7 = 7\t1 * 8 = 8\t1 * 9 = 9\t1 * 10 = 10\t\n",
      "2 * 1 = 2\t2 * 2 = 4\t2 * 3 = 6\t2 * 4 = 8\t2 * 5 = 10\t2 * 6 = 12\t2 * 7 = 14\t2 * 8 = 16\t2 * 9 = 18\t2 * 10 = 20\t\n",
      "3 * 1 = 3\t3 * 2 = 6\t3 * 3 = 9\t3 * 4 = 12\t3 * 5 = 15\t3 * 6 = 18\t3 * 7 = 21\t3 * 8 = 24\t3 * 9 = 27\t3 * 10 = 30\t\n",
      "4 * 1 = 4\t4 * 2 = 8\t4 * 3 = 12\t4 * 4 = 16\t4 * 5 = 20\t4 * 6 = 24\t4 * 7 = 28\t4 * 8 = 32\t4 * 9 = 36\t4 * 10 = 40\t\n",
      "5 * 1 = 5\t5 * 2 = 10\t5 * 3 = 15\t5 * 4 = 20\t5 * 5 = 25\t5 * 6 = 30\t5 * 7 = 35\t5 * 8 = 40\t5 * 9 = 45\t5 * 10 = 50\t\n",
      "6 * 1 = 6\t6 * 2 = 12\t6 * 3 = 18\t6 * 4 = 24\t6 * 5 = 30\t6 * 6 = 36\t6 * 7 = 42\t6 * 8 = 48\t6 * 9 = 54\t6 * 10 = 60\t\n",
      "7 * 1 = 7\t7 * 2 = 14\t7 * 3 = 21\t7 * 4 = 28\t7 * 5 = 35\t7 * 6 = 42\t7 * 7 = 49\t7 * 8 = 56\t7 * 9 = 63\t7 * 10 = 70\t\n",
      "8 * 1 = 8\t8 * 2 = 16\t8 * 3 = 24\t8 * 4 = 32\t8 * 5 = 40\t8 * 6 = 48\t8 * 7 = 56\t8 * 8 = 64\t8 * 9 = 72\t8 * 10 = 80\t\n",
      "9 * 1 = 9\t9 * 2 = 18\t9 * 3 = 27\t9 * 4 = 36\t9 * 5 = 45\t9 * 6 = 54\t9 * 7 = 63\t9 * 8 = 72\t9 * 9 = 81\t9 * 10 = 90\t\n",
      "10 * 1 = 10\t10 * 2 = 20\t10 * 3 = 30\t10 * 4 = 40\t10 * 5 = 50\t10 * 6 = 60\t10 * 7 = 70\t10 * 8 = 80\t10 * 9 = 90\t10 * 10 = 100\t\n"
     ]
    }
   ],
   "source": [
    "# Define the size of the multiplication table (up to 10 in this example)\n",
    "table_size = 10\n",
    "\n",
    "# Outer loop for rows (multiplicands)\n",
    "for i in range(1, table_size + 1):\n",
    "    # Inner loop for columns (multipliers)\n",
    "    for j in range(1, table_size + 1):\n",
    "        # Calculate the product\n",
    "        product = i * j\n",
    "        # Print the product with formatting\n",
    "        print(f\"{i} * {j} = {product}\\t\", end=\"\")\n",
    "    # Move to the next line after each row\n",
    "    print()\n"
   ]
  },
  {
   "cell_type": "code",
   "execution_count": null,
   "id": "574baa45-8457-4d3a-af04-550a190035a1",
   "metadata": {},
   "outputs": [],
   "source": []
  },
  {
   "cell_type": "code",
   "execution_count": null,
   "id": "12aacba8-2bd2-4817-84ac-d30ed03d18b0",
   "metadata": {},
   "outputs": [],
   "source": []
  },
  {
   "cell_type": "code",
   "execution_count": null,
   "id": "039d9c01-6fc9-40a4-928a-fa857c0d35a8",
   "metadata": {},
   "outputs": [],
   "source": []
  },
  {
   "cell_type": "code",
   "execution_count": null,
   "id": "23977cf0-307b-4f47-8e30-c9452e990b59",
   "metadata": {},
   "outputs": [],
   "source": []
  },
  {
   "cell_type": "code",
   "execution_count": null,
   "id": "930db8bf-1487-46f0-b4eb-e02c7012e16f",
   "metadata": {},
   "outputs": [],
   "source": []
  },
  {
   "cell_type": "code",
   "execution_count": null,
   "id": "cccac04c-c713-4384-9612-216e166fdbba",
   "metadata": {},
   "outputs": [],
   "source": []
  },
  {
   "cell_type": "code",
   "execution_count": null,
   "id": "14206ec1-2cdd-4fc0-9b0b-71025ed300be",
   "metadata": {},
   "outputs": [],
   "source": []
  },
  {
   "cell_type": "code",
   "execution_count": null,
   "id": "8fba6638-ff06-4d19-821f-deea1bd89495",
   "metadata": {},
   "outputs": [],
   "source": []
  },
  {
   "cell_type": "code",
   "execution_count": null,
   "id": "0e13a103-6817-491a-b182-63495af98882",
   "metadata": {},
   "outputs": [],
   "source": []
  },
  {
   "cell_type": "code",
   "execution_count": null,
   "id": "5bf4a509-52c8-4bd9-9e34-15a20a428a99",
   "metadata": {},
   "outputs": [],
   "source": []
  },
  {
   "cell_type": "code",
   "execution_count": null,
   "id": "864be6da-e278-4822-a4c4-ce697d27a1bc",
   "metadata": {},
   "outputs": [],
   "source": []
  },
  {
   "cell_type": "code",
   "execution_count": null,
   "id": "bf1242db-54ca-4a67-85d7-670914654219",
   "metadata": {},
   "outputs": [],
   "source": []
  },
  {
   "cell_type": "code",
   "execution_count": null,
   "id": "b5decb5c-8d70-4dbd-a7ca-278cab96ac3c",
   "metadata": {},
   "outputs": [],
   "source": []
  },
  {
   "cell_type": "code",
   "execution_count": null,
   "id": "f0686cad-16b7-4a3f-961f-8069cafcab42",
   "metadata": {},
   "outputs": [],
   "source": []
  },
  {
   "cell_type": "code",
   "execution_count": null,
   "id": "a7ac70a5-74fa-475e-b45f-7aa967b02bb1",
   "metadata": {},
   "outputs": [],
   "source": []
  },
  {
   "cell_type": "code",
   "execution_count": null,
   "id": "a7adc28d-7b9c-4dbe-8b7c-d6b21403d3fe",
   "metadata": {},
   "outputs": [],
   "source": []
  },
  {
   "cell_type": "code",
   "execution_count": null,
   "id": "75e9c4a7-4376-4cb0-8459-905c3e75e229",
   "metadata": {},
   "outputs": [],
   "source": []
  },
  {
   "cell_type": "code",
   "execution_count": null,
   "id": "e65f6162-30e8-4094-86a9-38c2ba9ad244",
   "metadata": {},
   "outputs": [],
   "source": []
  },
  {
   "cell_type": "code",
   "execution_count": null,
   "id": "d7e80260-fd59-439e-ad9f-3bd4616eb185",
   "metadata": {},
   "outputs": [],
   "source": []
  },
  {
   "cell_type": "code",
   "execution_count": null,
   "id": "de70819d-1c99-4d11-8b0b-47cee2887c6d",
   "metadata": {},
   "outputs": [],
   "source": []
  },
  {
   "cell_type": "code",
   "execution_count": null,
   "id": "666da3ce-2ed0-4591-9fc1-58112f486dfc",
   "metadata": {},
   "outputs": [],
   "source": []
  },
  {
   "cell_type": "code",
   "execution_count": null,
   "id": "2d2497f4-4bd0-45c8-9ba9-64b5e5878ebc",
   "metadata": {},
   "outputs": [],
   "source": []
  },
  {
   "cell_type": "code",
   "execution_count": null,
   "id": "24bde952-8705-4461-8818-a045cc718fbb",
   "metadata": {},
   "outputs": [],
   "source": []
  },
  {
   "cell_type": "code",
   "execution_count": null,
   "id": "3d082486-d9ce-4243-80e6-033ff74166a3",
   "metadata": {},
   "outputs": [],
   "source": []
  },
  {
   "cell_type": "code",
   "execution_count": null,
   "id": "f18540c7-45a0-4cbf-a25e-133f6559fd20",
   "metadata": {},
   "outputs": [],
   "source": []
  },
  {
   "cell_type": "code",
   "execution_count": null,
   "id": "6e9442a3-adad-4546-b48a-4e20edfde3e9",
   "metadata": {},
   "outputs": [],
   "source": []
  },
  {
   "cell_type": "code",
   "execution_count": null,
   "id": "6646bf67-d9e8-4a62-8526-68970d99252f",
   "metadata": {},
   "outputs": [],
   "source": []
  },
  {
   "cell_type": "code",
   "execution_count": null,
   "id": "dd4f6851-4828-40ee-a1fe-3e4216c06893",
   "metadata": {},
   "outputs": [],
   "source": []
  },
  {
   "cell_type": "code",
   "execution_count": null,
   "id": "d5795acf-ac93-44c3-af3b-7c2f5f56ad68",
   "metadata": {},
   "outputs": [],
   "source": []
  },
  {
   "cell_type": "code",
   "execution_count": null,
   "id": "6da914e9-a218-4f57-9da7-b1c351f6534b",
   "metadata": {},
   "outputs": [],
   "source": []
  },
  {
   "cell_type": "code",
   "execution_count": null,
   "id": "9daa7e87-3171-418f-9584-7de0a1836b1c",
   "metadata": {},
   "outputs": [],
   "source": []
  },
  {
   "cell_type": "code",
   "execution_count": null,
   "id": "bf7b224c-af1e-43c7-8585-aa46a6e97321",
   "metadata": {},
   "outputs": [],
   "source": []
  },
  {
   "cell_type": "code",
   "execution_count": null,
   "id": "bd9f33f7-3ac0-41d3-853e-65b96ade6d1f",
   "metadata": {},
   "outputs": [],
   "source": []
  }
 ],
 "metadata": {
  "kernelspec": {
   "display_name": "Python 3 (ipykernel)",
   "language": "python",
   "name": "python3"
  },
  "language_info": {
   "codemirror_mode": {
    "name": "ipython",
    "version": 3
   },
   "file_extension": ".py",
   "mimetype": "text/x-python",
   "name": "python",
   "nbconvert_exporter": "python",
   "pygments_lexer": "ipython3",
   "version": "3.10.8"
  }
 },
 "nbformat": 4,
 "nbformat_minor": 5
}
